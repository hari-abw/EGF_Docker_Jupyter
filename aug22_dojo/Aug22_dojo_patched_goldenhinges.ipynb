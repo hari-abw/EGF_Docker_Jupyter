{
 "cells": [
  {
   "cell_type": "code",
   "execution_count": 1,
   "id": "86be5c0e-ce23-4fe8-85d7-bcedc1d34391",
   "metadata": {},
   "outputs": [],
   "source": [
    "import goldenhinges\n",
    "import os\n",
    "from Bio import SeqIO\n",
    "from goldenhinges import OverhangsSelector\n",
    "from goldenhinges.reports import write_report_for_cutting_solution\n",
    "\n",
    "\n",
    "def main():\n",
    "    \"\"\"Example of cutting problem defined by a record.\n",
    "\n",
    "    This example has a long\n",
    "    \"\"\"\n",
    "    genbank_file = \"sequence_with_constraints.gb\"\n",
    "    record = SeqIO.read(genbank_file, \"genbank\")\n",
    "    print(f\"Read:{record}\")\n",
    "    selector = OverhangsSelector(gc_min=0.25, gc_max=0.75, differences=2)\n",
    "    solution = selector.cut_sequence(\n",
    "        record, allow_edits=True, equal_segments=20, include_extremities=True\n",
    "    )\n",
    "\n",
    "    print(\"Writing the report...\")\n",
    "    write_report_for_cutting_solution(\n",
    "        solution=solution,\n",
    "        target=os.path.join(\"results\", \"with_mutations\"),\n",
    "        sequence=record,\n",
    "        left_flank=\"CGTCTCA\",\n",
    "        right_flank=\"TGAGACG\",\n",
    "    )\n",
    "    print(\"Done! See the report in results/with_mutations/\")"
   ]
  },
  {
   "cell_type": "code",
   "execution_count": 2,
   "id": "9b8e3bda-e264-4dfd-934d-b0e93234fc82",
   "metadata": {},
   "outputs": [
    {
     "name": "stdout",
     "output_type": "stream",
     "text": [
      "Read:ID: <unknown id>\n",
      "Name: .\n",
      "Description: .\n",
      "Number of features: 10\n",
      "/molecule_type=DNA\n",
      "/data_file_division=UNK\n",
      "/date=01-JAN-1980\n",
      "/accessions=['<unknown', 'id>']\n",
      "/keywords=['']\n",
      "/source=\n",
      "/organism=.\n",
      "/taxonomy=[]\n",
      "Seq('CTCCACCTGCGTCTATCGTACAGTGCTAAAATGGCAGCAGATAGTGAAACTTCC...GTC')\n"
     ]
    },
    {
     "name": "stderr",
     "output_type": "stream",
     "text": [
      "                                                                                                                                                                                                                      \r"
     ]
    },
    {
     "name": "stdout",
     "output_type": "stream",
     "text": [
      "Writing the report...\n",
      "Done! See the report in results/with_mutations/\n"
     ]
    }
   ],
   "source": [
    "main()"
   ]
  },
  {
   "cell_type": "code",
   "execution_count": null,
   "id": "b69e4100-8f87-488f-ba0a-920a0e131f8b",
   "metadata": {},
   "outputs": [],
   "source": []
  }
 ],
 "metadata": {
  "kernelspec": {
   "display_name": "Python 3 (ipykernel)",
   "language": "python",
   "name": "python3"
  },
  "language_info": {
   "codemirror_mode": {
    "name": "ipython",
    "version": 3
   },
   "file_extension": ".py",
   "mimetype": "text/x-python",
   "name": "python",
   "nbconvert_exporter": "python",
   "pygments_lexer": "ipython3",
   "version": "3.9.12"
  }
 },
 "nbformat": 4,
 "nbformat_minor": 5
}
